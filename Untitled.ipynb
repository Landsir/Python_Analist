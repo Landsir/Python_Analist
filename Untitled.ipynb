{
 "cells": [
  {
   "cell_type": "markdown",
   "id": "46d4a22c",
   "metadata": {},
   "source": [
    "## Семинар 1"
   ]
  },
  {
   "cell_type": "markdown",
   "id": "c4ca81e2",
   "metadata": {},
   "source": [
    "### Условие 1:"
   ]
  },
  {
   "cell_type": "markdown",
   "id": "6b6ea739",
   "metadata": {},
   "source": [
    "на складе лежат разные фрукты в разном количестве.\n",
    "Нужно написать **функцию**, которая на вход принимает любое количество названий фруктов и их количество,\n",
    "а возвращает общее количество фруктов на складе.\n",
    "\n"
   ]
  },
  {
   "cell_type": "code",
   "execution_count": 29,
   "id": "48d5764e",
   "metadata": {},
   "outputs": [
    {
     "data": {
      "text/plain": [
       "21"
      ]
     },
     "execution_count": 29,
     "metadata": {},
     "output_type": "execute_result"
    }
   ],
   "source": [
    "def fruits_total(**fruits):\n",
    "    total =0\n",
    "    for amount in fruits.values():\n",
    "        total += amount\n",
    "    return total\n",
    "\n",
    "fruits_total(apple=2, orange = 7, banana = 12)"
   ]
  },
  {
   "cell_type": "markdown",
   "id": "cdd4c515",
   "metadata": {},
   "source": [
    "### Условие 3:\n",
    "Дан список с затратами на рекламу. Но в данных есть ошибки, некоторые затраты имеют отрицательную величину. Удалите такие значения из списка и посчитайте суммарные затраты\n",
    "[100, 125, -90, 345, 655, -1, 0, 200]\n",
    "Используйте list comprehensions"
   ]
  },
  {
   "cell_type": "code",
   "execution_count": 30,
   "id": "d87ec74a",
   "metadata": {},
   "outputs": [
    {
     "data": {
      "text/plain": [
       "1425"
      ]
     },
     "execution_count": 30,
     "metadata": {},
     "output_type": "execute_result"
    }
   ],
   "source": [
    "ad_list = [100,125, -90, 345, 655, -1, 0, 200]\n",
    "sum(i for i in ad_list if i>0)"
   ]
  },
  {
   "cell_type": "markdown",
   "id": "97ffd85e",
   "metadata": {},
   "source": [
    "### Условие 4:\n",
    "Даны два списка.\n",
    "\n",
    "**Дата покупки**\n",
    "'2021-09-14', '2021-12-15', '2021-09-08', '2021-12-05', '2021-10-09', '2021-09-30', '2021-12-22', '2021-11-29', '2021-12-24', '2021-11-26', '2021-10-27', '2021-12-18', '2021-11-09', '2021-11-23', '2021-09-27', '2021-10-02', '2021-12-27', '2021-09-20', '2021-12-13', '2021-11-01', '2021-11-09', '2021-12-06', '2021-12-08', '2021-10-09', '2021-10-31', '2021-09-30', '2021-11-09', '2021-12-13', '2021-10-26', '2021-12-09'\n",
    "\n",
    "**Суммы покупок по датам**\n",
    "1270, 8413, 9028, 3703, 5739, 4095, 295, 4944, 5723, 3701, 4471, 651, 7037, 4274, 6275, 4988, 6930, 2971, 6592, 2004, 2822, 519, 3406, 2732, 5015, 2008, 316, 6333, 5700, 2887\n",
    "##### 4.1 Найдите, какая выручка у компании в ноябре\n",
    "Используйте list comprehensions\n",
    "##### 4.2 Найдите выручку компании в зависимости от месяца\n",
    "Для этого напишите функцию, которая на вход принимает список с датами и список с выручкой, а на выходе словарь, где ключи - это месяцы, а значения - это выручка.\n",
    "Используйте аннотирование типов."
   ]
  },
  {
   "cell_type": "code",
   "execution_count": 31,
   "id": "d2eaac5d",
   "metadata": {},
   "outputs": [
    {
     "data": {
      "text/plain": [
       "25098"
      ]
     },
     "execution_count": 31,
     "metadata": {},
     "output_type": "execute_result"
    }
   ],
   "source": [
    "dates = ['2021-09-14', '2021-12-15', '2021-09-08', '2021-12-05', '2021-10-09',\n",
    "         '2021-09-30', '2021-12-22', '2021-11-29', '2021-12-24', '2021-11-26', \n",
    "         '2021-10-27', '2021-12-18', '2021-11-09', '2021-11-23', '2021-09-27', \n",
    "         '2021-10-02', '2021-12-27', '2021-09-20', '2021-12-13', '2021-11-01', \n",
    "         '2021-11-09', '2021-12-06', '2021-12-08', '2021-10-09', '2021-10-31', \n",
    "         '2021-09-30', '2021-11-09', '2021-12-13', '2021-10-26', '2021-12-09']\n",
    "sums = [1270, 8413, 9028, 3703, 5739, 4095, 295, 4944, 5723, 3701, 4471, 651, \n",
    "        7037, 4274, 6275, 4988, 6930, 2971, 6592, 2004, 2822, 519, 3406, 2732, \n",
    "        5015, 2008, 316, 6333, 5700, 2887]\n",
    "\n",
    "sum([sums[i] for i in range(len(dates)) if dates[i].split('-')[1] == '11'])\n"
   ]
  },
  {
   "cell_type": "code",
   "execution_count": 32,
   "id": "031c4d47",
   "metadata": {},
   "outputs": [
    {
     "data": {
      "text/plain": [
       "{'09': 25647, '12': 45452, '10': 28645, '11': 25098}"
      ]
     },
     "execution_count": 32,
     "metadata": {},
     "output_type": "execute_result"
    }
   ],
   "source": [
    "def income_month(dates: list, sums: list) ->dict:\n",
    "    income_m = {}\n",
    "    \n",
    "    for i in range(len(dates)):\n",
    "        month = dates[i].split('-')[1]\n",
    "        if month in income_m.keys():\n",
    "            income_m[month] += sums[i]\n",
    "        else:\n",
    "            income_m[month] = sums[i]\n",
    "    return income_m\n",
    "income_month(dates, sums)"
   ]
  }
 ],
 "metadata": {
  "kernelspec": {
   "display_name": "Python 3 (ipykernel)",
   "language": "python",
   "name": "python3"
  },
  "language_info": {
   "codemirror_mode": {
    "name": "ipython",
    "version": 3
   },
   "file_extension": ".py",
   "mimetype": "text/x-python",
   "name": "python",
   "nbconvert_exporter": "python",
   "pygments_lexer": "ipython3",
   "version": "3.9.13"
  }
 },
 "nbformat": 4,
 "nbformat_minor": 5
}
